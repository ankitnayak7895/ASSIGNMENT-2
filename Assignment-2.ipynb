{
 "cells": [
  {
   "cell_type": "markdown",
   "id": "6b37da0e",
   "metadata": {},
   "source": [
    "1. What are the two values of the Boolean data type? How do you write them?\n",
    "\n",
    "Ans:-A boolean data type has two values i.e True and False.\n",
    "\n",
    "If the condition is satisfy then it will return True.\n",
    "\n",
    "Like, 5>3 it is satisfy with the condition then it will return True.\n",
    "\n",
    "Whenever the condition is not satisfy then at that time it will return False.\n",
    "\n",
    "Like, 1>3 it is not satisfy with the condition so it return False."
   ]
  },
  {
   "cell_type": "markdown",
   "id": "4a4c4631",
   "metadata": {},
   "source": [
    "2. What are the three different types of Boolean operators?\n",
    "\n",
    "Ans:-The three different types of Boolean operators are:-\n",
    "                        1.Logical AND\n",
    "                        2.Logical OR\n",
    "                        3.Logical NOT\n",
    "            \n",
    "AND:-\n",
    "    This operator returns True if both operands are True, otherwise it returns False.\n",
    "    \n",
    "OR:-\n",
    "    This operator returns True if at least one of the operands is True, otherwise it returns False.\n",
    "    \n",
    "NOT:-\n",
    "    This operator negates the truth value of its operand. If the operand is True, it returns False, and if the operand is False, it returns True."
   ]
  },
  {
   "cell_type": "code",
   "execution_count": 9,
   "id": "e8a078ed",
   "metadata": {},
   "outputs": [
    {
     "name": "stdout",
     "output_type": "stream",
     "text": [
      "True\n",
      "False\n",
      "True\n",
      "False\n",
      "False\n",
      "True\n"
     ]
    }
   ],
   "source": [
    "# code of the above question\n",
    "\n",
    "##using Logical AND\n",
    "print(True and True)  # Output: True\n",
    "print(True and False)  # Output: False\n",
    "\n",
    "##using Logical OR\n",
    "print(True or False)  # Output: True\n",
    "print(False or False)  # Output: False\n",
    "\n",
    "##using Logical NOT\n",
    "print(not True)  # Output: False\n",
    "print(not False)  # Output: True\n"
   ]
  },
  {
   "cell_type": "markdown",
   "id": "6427a658",
   "metadata": {},
   "source": [
    "3. Make a list of each Boolean operator truth tables (i.e. every possible combination of Boolean\n",
    "values for the operator and what it evaluate )."
   ]
  },
  {
   "cell_type": "code",
   "execution_count": null,
   "id": "29011f2b",
   "metadata": {},
   "outputs": [],
   "source": [
    "##Logical AND (and):\n",
    "Operand1   Operand2     Result\n",
    "False      False        False\n",
    "False      True         False\n",
    "True       False        False\n",
    "True       True         True\n",
    "\n",
    "## it means in this logical AND operator if any one operand is False the output becomes False other wise True\n",
    "# if both the operabd value becomes True.\n",
    "\n",
    "\n",
    "##Logical OR (or):\n",
    "Operand1   Operand 2     Result\n",
    "False      False         False\n",
    "False      True          True\n",
    "True       False         True\n",
    "True       True          True\n",
    "##  it means in this logical OR operator if any one operand value is True the output becomes True otherwise \n",
    "# False , if both the operand value is False.\n",
    "\n",
    "##Logical NOT (not):\n",
    "Operand      Result\n",
    "False        True\n",
    "True         False\n",
    "## it means in this logical NOT operator if the value of the operand is False it returns True\n",
    "# and if the value of the operand is True it returns False"
   ]
  },
  {
   "cell_type": "markdown",
   "id": "5dfd022a",
   "metadata": {},
   "source": [
    "4. What are the values of the following expressions?\n",
    "a.(5 > 4) and (3 == 5)\n",
    "b.not (5 > 4)\n",
    "c.(5 > 4) or (3 == 5)\n",
    "d.not ((5 > 4) or (3 == 5))\n",
    "e.(True and True) and (True == False)\n",
    "f.(not False) or (not True)"
   ]
  },
  {
   "cell_type": "markdown",
   "id": "5419f6ba",
   "metadata": {},
   "source": [
    "Solution:-\n",
    "    a.(5>4)..it evaluates the True\n",
    "      (3==5)..it evaluates the False\n",
    "    -->so,True and False evaluates to False\n",
    "    \n",
    "    b.(5>4)..it evaluates to True\n",
    "       -->so,not True evaluates to False\n",
    "    \n",
    "    c.(5>4)..it evaluates to True\n",
    "      (3==5)..it evaluates to False\n",
    "        -->so,True or False evaluates to True\n",
    "        \n",
    "    d.(5>4)..it evaluates to True\n",
    "      (3==5)..it evaluates to False\n",
    "        True or False evaluates to True\n",
    "         -->so,not True evaluates to False\n",
    "    \n",
    "    e.(True and True)..it evaluates to True\n",
    "      (True == False)..it evaluates to False\n",
    "        -->so,True and False evaluates to False\n",
    "        \n",
    "    f.(not False)..it evaluates to True\n",
    "      (not True)..it evaluates to False\n",
    "        -->so,True or False evaluates to True"
   ]
  },
  {
   "cell_type": "markdown",
   "id": "a31b42c4",
   "metadata": {},
   "source": [
    "5. What are the six comparison operators?"
   ]
  },
  {
   "cell_type": "markdown",
   "id": "2dc151db",
   "metadata": {},
   "source": [
    "Solution:-\n",
    "    The comparison operators are basically compare between two quantities,when satisfy with their condition\n",
    "    it return True otherwise return False.\n",
    "    The six comparison operators are,\n",
    "    \n",
    "    a.equal to (==):- it checks whether the two operands are equal or not if it equal then it returns True\n",
    "        otherwise returns False\n",
    "        \n",
    "    b.not equal to(!=):-it checks whether the two operands are not equal to each other it returns True if the\n",
    "        two operands are not equal otherwise it returns False.\n",
    "        \n",
    "    c.greater than(>):-Checks if the left operand is greater than to the right operand.Return True if it \n",
    "        satisfy its condition otherwise returns False\n",
    "        \n",
    "    d.less than(<):-Checks if the left operand is less than the right operand.Return True if it \n",
    "        satisfy its condition otherwise returns False\n",
    "        \n",
    "    e.greater than or equal to (>=): Checks if the left operand is greater than or equal to the right operand.\n",
    "        Return True if it satisfy its condition otherwise returns False.\n",
    "        \n",
    "    f.Less than or equal to (<=): Checks if the left operand is less than or equal to the right operand. \n",
    "         Return True if it satisfy its condition otherwise returns False."
   ]
  },
  {
   "cell_type": "markdown",
   "id": "34a3f709",
   "metadata": {},
   "source": [
    "6. How do you tell the difference between the equal to and assignment operators?Describe a condition and when you would use one?"
   ]
  },
  {
   "cell_type": "markdown",
   "id": "b5a2ae8a",
   "metadata": {},
   "source": [
    "Solution:-\n",
    "    The difference between the equal to and assignment operator is:-\n",
    "    \n",
    "        equal to (==) is used when we have to compare between two or more operands,for comparision we have to \n",
    "        use the equal to (==) operator.After comparision it returns the boolean value that is True and False,\n",
    "        if it equal among the two or more operands then it returns True , otherwise returns False.\n",
    "        \n",
    "        assignment operator(=) is used to assign a value to a variable or it holds the value of a varibale\n",
    "        \n",
    "        example:- a=5..it means (a) is assign to 5 not (a) is equal to 5 whenever we assign a value to a variable\n",
    "            after that it creates a memory refernce in that memory reference it holds the  value 5 which the\n",
    "            variable (a) belongs to.\n",
    "            \n",
    "            a==5..it means (a) is equal to 5,what ever the value of (a) that is equal to the value of 5."
   ]
  },
  {
   "cell_type": "markdown",
   "id": "b949d658",
   "metadata": {},
   "source": [
    "7. Identify the three blocks in this code:\n",
    "spam = 0\n",
    "if spam == 10:\n",
    "print(\"eggs\")\n",
    "if spam > 5:\n",
    "print(\"bacon\")\n",
    "else:\n",
    "print(\"ham\")\n",
    "print(\"spam\")\n",
    "print(\"spam\")"
   ]
  },
  {
   "cell_type": "markdown",
   "id": "ece0359f",
   "metadata": {},
   "source": [
    "Solution:-\n",
    "here we assign a variable spam = 0,\n",
    " it checks if spam ==10,if it is true than it prints eggs,\n",
    "    after that it move to another conditoional statement that if  spam > 5 then it prints bacon ,if it not equals to 5 then it move to else statement and prints whatever it have"
   ]
  },
  {
   "cell_type": "code",
   "execution_count": 11,
   "id": "8d0345d3",
   "metadata": {},
   "outputs": [
    {
     "name": "stdout",
     "output_type": "stream",
     "text": [
      "ham\n",
      "spam\n",
      "spam\n"
     ]
    }
   ],
   "source": [
    "spam = 0\n",
    "if spam == 10:\n",
    "    print(\"eggs\")\n",
    "if spam > 5:\n",
    "    print(\"bacon\")\n",
    "else:\n",
    "    print(\"ham\")\n",
    "    print(\"spam\")\n",
    "    print(\"spam\")"
   ]
  },
  {
   "cell_type": "markdown",
   "id": "aff09175",
   "metadata": {},
   "source": [
    "8. Write code that prints Hello if 1 is stored in spam, prints Howdy if 2 is stored in spam, and prints Greetings! if anything else is stored in spam."
   ]
  },
  {
   "cell_type": "markdown",
   "id": "994f4b04",
   "metadata": {},
   "source": [
    "Solution:-\n",
    "    This can be done in 2 ways:-\n",
    "    i.by taking input from the user, \n",
    "    ii.by assigning a value to spam."
   ]
  },
  {
   "cell_type": "code",
   "execution_count": 17,
   "id": "e01017f9",
   "metadata": {},
   "outputs": [
    {
     "name": "stdout",
     "output_type": "stream",
     "text": [
      "Enter the value:2\n",
      "Howdy\n"
     ]
    }
   ],
   "source": [
    "## by taking input from user\n",
    "spam=int(input(\"Enter the value:\"))\n",
    "if spam ==1:\n",
    "    print(\"Hello\")\n",
    "elif spam ==2:\n",
    "    print(\"Howdy\")\n",
    "else:\n",
    "    print(\"Greetings!\")"
   ]
  },
  {
   "cell_type": "code",
   "execution_count": 16,
   "id": "8c5918ff",
   "metadata": {},
   "outputs": [
    {
     "name": "stdout",
     "output_type": "stream",
     "text": [
      "Greetings!\n"
     ]
    }
   ],
   "source": [
    "#by assigning a value to spam\n",
    "spam=0\n",
    "if spam ==1:\n",
    "    print(\"Hello\")\n",
    "elif spam ==2:\n",
    "    print(\"Howdy\")\n",
    "else:\n",
    "    print(\"Greetings!\")"
   ]
  },
  {
   "cell_type": "markdown",
   "id": "f473b464",
   "metadata": {},
   "source": [
    "9. If your programme is stuck in an endless loop, what keys you’ll press?"
   ]
  },
  {
   "cell_type": "markdown",
   "id": "2f1a9647",
   "metadata": {},
   "source": [
    "Solution:-\n",
    "    If we are stuck in endless loop we have to press Ctrl + C.\n",
    "    This is often the quickest way to stop a program that is stuck in an endless loop."
   ]
  },
  {
   "cell_type": "markdown",
   "id": "5813e372",
   "metadata": {},
   "source": [
    "10. How can you tell the difference between break and continue?"
   ]
  },
  {
   "cell_type": "markdown",
   "id": "1318018d",
   "metadata": {},
   "source": [
    "Solution:-\n",
    "    break and continue are both keywords used in control flow statements in Python, but they serve different purposes.\n",
    "    \n",
    "    break:-\n",
    "    \n",
    "    The break statement is used to terminate the loop it is currently in.\n",
    "    When encountered within a loop (such as for or while), the break statement causes the loop to immediately terminate its execution, and control passes to the next statement after the loop.\n",
    "    It is commonly used when a condition is met and you want to exit the loop prematurely.\n",
    "    \n",
    "    continue:-\n",
    "    \n",
    "    The continue statement is used to skip the rest of the code inside a loop for the current iteration and jump to the next iteration.\n",
    "    When encountered within a loop, the continue statement causes the loop to skip the remaining code in the current iteration and move on to the next iteration.\n",
    "  It is commonly used when you want to skip certain iterations of a loop based on a condition without      terminating the loop entirely."
   ]
  },
  {
   "cell_type": "markdown",
   "id": "665ab2d7",
   "metadata": {},
   "source": [
    "11. In a for loop, what is the difference between range(10), range(0, 10), and range(0, 10, 1)?"
   ]
  },
  {
   "cell_type": "markdown",
   "id": "df6dbf5e",
   "metadata": {},
   "source": [
    "Solution:-\n",
    "    range:-it is a built-in functions is used to generate a sequence of numbers.\n",
    "        \n",
    "    range(10)..it means it prints the value from 0 to 9.\n",
    "    \n",
    "    range(0,10)..it means it prints the value from 0 to 9.It purpose is to write its starting value where we have to start\n",
    "    \n",
    "    range(0,10,1)..it means it declare a step size that is 1,after every 1 iteration it prints the results."
   ]
  },
  {
   "cell_type": "markdown",
   "id": "8561eda5",
   "metadata": {},
   "source": [
    "12. Write a short program that prints the numbers 1 to 10 using a for loop. Then write an equivalent program that prints the numbers 1 to 10 using a while loop."
   ]
  },
  {
   "cell_type": "code",
   "execution_count": 24,
   "id": "3079d646",
   "metadata": {},
   "outputs": [],
   "source": [
    "Solution:-\n",
    "    # using for loop\n",
    "\n",
    "for i in range(1,11):\n",
    "    print(i)\n",
    "    \n",
    "    # using while loop\n",
    "    i=1\n",
    "while i <= 10:\n",
    "    print(i)\n",
    "    i=i +1"
   ]
  },
  {
   "cell_type": "markdown",
   "id": "58b544d6",
   "metadata": {},
   "source": [
    "13. If you had a function named bacon() inside a module named spam, how would you call it after importing spam?"
   ]
  },
  {
   "cell_type": "code",
   "execution_count": null,
   "id": "e577c2fe",
   "metadata": {},
   "outputs": [],
   "source": [
    "Solution:-\n",
    "    we call it\n",
    "    \n",
    "    import spam\n",
    "    spam.bacon()\n",
    "    \n",
    "    it means bacon() function is defined directly within the spam module."
   ]
  }
 ],
 "metadata": {
  "kernelspec": {
   "display_name": "Python 3 (ipykernel)",
   "language": "python",
   "name": "python3"
  },
  "language_info": {
   "codemirror_mode": {
    "name": "ipython",
    "version": 3
   },
   "file_extension": ".py",
   "mimetype": "text/x-python",
   "name": "python",
   "nbconvert_exporter": "python",
   "pygments_lexer": "ipython3",
   "version": "3.11.3"
  }
 },
 "nbformat": 4,
 "nbformat_minor": 5
}
